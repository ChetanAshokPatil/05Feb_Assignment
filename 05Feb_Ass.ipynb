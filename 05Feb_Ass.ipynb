{
 "cells": [
  {
   "cell_type": "markdown",
   "id": "2eb733aa-8d9a-4669-bd9d-b68f137c3f66",
   "metadata": {},
   "source": [
    "Que 1 Answer:\n",
    "Class is a blueprint or template for creating objects in object-oriented programming. It defines the attributes (data) and behaviors (methods) that the objects of a certain type will have.\n",
    "\n",
    "Object is an instance of a class. An object is created from a class and can access the attributes and behaviors defined in the class. Each object can have its own unique values for these attributes.\n",
    "\n",
    "Example:\n",
    "Let's say we want to model a company in object-oriented programming. We can create a class called \"Company\" that has attributes like employee id, employee name, employee age, and employee designation. It can also have work categories like data scientist, data analyst, and data engineer. An object of the class \"Company\" could be a specific company with a name \"XYZ\", employee id \"123\", employee age \"33\", and employee name \"ABC\".\n",
    "\n",
    "class Company:\n",
    "def init(self, employee name, employee id, employee age, employee designation):\n",
    "self.employee_name = employee name\n",
    "self.employee_id = employee id\n",
    "self.employee_age = employee age\n",
    "self.employee_designation =employee designation\n"
   ]
  },
  {
   "cell_type": "code",
   "execution_count": 2,
   "id": "662f8088-f102-4eac-bc52-9ae90b54e036",
   "metadata": {},
   "outputs": [],
   "source": [
    "class Company :\n",
    "    \n",
    "    def __init__(self, employee_id, employee_name, employee_age, employee_designation) :\n",
    "        self.employee_id = employee_id\n",
    "        self.employee_name = employee_name\n",
    "        self.employee_age = employee_age\n",
    "        self.employee_designation = employee_designation\n",
    "        \n",
    "    def return_employee_details(self):\n",
    "        return self.employee_id, self.employee_name, self.employee_age, self.employee_designation"
   ]
  },
  {
   "cell_type": "code",
   "execution_count": 3,
   "id": "6d5b7606-aeff-4b64-bc35-b5b47681a0b5",
   "metadata": {},
   "outputs": [],
   "source": [
    "XYZ = Company(123,\"ABC\",33,\"data scientist\")"
   ]
  },
  {
   "cell_type": "code",
   "execution_count": 4,
   "id": "87ae65a4-899e-4044-b4d0-19811839260e",
   "metadata": {},
   "outputs": [
    {
     "data": {
      "text/plain": [
       "(123, 'ABC', 33, 'data scientist')"
      ]
     },
     "execution_count": 4,
     "metadata": {},
     "output_type": "execute_result"
    }
   ],
   "source": [
    "XYZ.return_employee_details()"
   ]
  },
  {
   "cell_type": "markdown",
   "id": "61f20cb1-fe19-4d14-a218-c8d14f744dfa",
   "metadata": {},
   "source": [
    "Que 2 Answer :\n",
    "The four pillars of Object-Oriented Programming (OOP) are:\n",
    "\n",
    "(1)Abstraction: Hiding the implementation details and showing only the necessary information to the user.\n",
    "\n",
    "(2)Encapsulation: Wrapping data and behavior within a single unit (object) to provide security and maintain consistency.\n",
    "\n",
    "(3)Inheritance: Reusing existing code and creating a new class that is a modified version of an existing class.\n",
    "\n",
    "(4)Polymorphism: The ability of an object to take on many forms, providing many methods with the same name but different behavior."
   ]
  },
  {
   "cell_type": "markdown",
   "id": "864d1ff5-054c-4f12-b5f3-caaea6b54485",
   "metadata": {},
   "source": [
    "Que 3 Answer :\n",
    "The __init__ method is a special method in Python classes and is used to initialize objects. It is automatically called when an object is created from a class and allows the object to have a specific state when it is created. It's also known as a constructor.\n",
    "\n",
    "Example:\n",
    "Let's consider the class \"Company\" defined in the previous answer. When an object is created from this class, we need to specify the employee id, employee name, employee age, and employee designation for the company. The __init__ method allows us to do this by defining the required parameters when creating an object of the class."
   ]
  },
  {
   "cell_type": "code",
   "execution_count": 5,
   "id": "fafe5cf2-b7ea-42d3-a68e-f783fa3b40fa",
   "metadata": {},
   "outputs": [],
   "source": [
    "def __init__(self, employee_id, employee_name, employee_age, employee_designation) :\n",
    "        self.employee_id = employee_id\n",
    "        self.employee_name = employee_name\n",
    "        self.employee_age = employee_age\n",
    "        self.employee_designation = employee_designation"
   ]
  },
  {
   "cell_type": "code",
   "execution_count": 6,
   "id": "f118b4a4-d81d-44ad-b15b-03a06be1fe86",
   "metadata": {},
   "outputs": [],
   "source": [
    "XYZ = Company(123,\"ABC\",33,\"data scientist\")"
   ]
  },
  {
   "cell_type": "markdown",
   "id": "c58ab98a-c2fe-4487-a468-90989212e2d6",
   "metadata": {},
   "source": [
    "In this example, the __init__ method is called automatically when an object \"XYZ\" is created from the class \"Company\". The __init__ method initializes the object with the values specified for the employee id, employee name, employee age, and employee designation attributes."
   ]
  },
  {
   "cell_type": "markdown",
   "id": "b07f94ec-96c7-4044-8276-adabe9cb6dcc",
   "metadata": {},
   "source": [
    "Que 4 Answer :\n",
    "In Object-Oriented Programming (OOP), the self keyword is used to refer to the instance of the class. It is a convention in Python to use the keyword self as the first parameter in class methods. When a method is called on an object, the object is passed to the method as the first argument, and the self parameter allows the method to access the attributes and behaviors of the object."
   ]
  },
  {
   "cell_type": "code",
   "execution_count": null,
   "id": "4c4c2d49-f839-4f9f-8ef9-9a154995ca39",
   "metadata": {},
   "outputs": [],
   "source": [
    "Que 4 Answer:\n",
    "Inheritance is a fundamental concept in Object-Oriented Programming (OOP) that allows you to create a new class that is a modified version of an existing class. The new class inherits the attributes and behaviors of the existing class, and can add or override them if needed.\n",
    "\n",
    "There are several types of inheritance in OOP:\n",
    "\n",
    "(1)Single inheritance: When a derived class inherits from only one base class, it is called single inheritance.\n",
    "Example:"
   ]
  },
  {
   "cell_type": "code",
   "execution_count": 7,
   "id": "f1b9e80d-7850-4e83-8fc5-1b358ffc6084",
   "metadata": {},
   "outputs": [
    {
     "name": "stdout",
     "output_type": "stream",
     "text": [
      "Name: Fido, Species: Dog\n",
      "Name: Fido, Breed: Labrador\n"
     ]
    }
   ],
   "source": [
    "class Animal:\n",
    "    def __init__(self, name, species):\n",
    "        self.name = name\n",
    "        self.species = species\n",
    "    \n",
    "    def show_animal_info(self):\n",
    "        print(f\"Name: {self.name}, Species: {self.species}\")\n",
    "\n",
    "class Dog(Animal):\n",
    "    def __init__(self, name, breed):\n",
    "        Animal.__init__(self, name, species=\"Dog\")\n",
    "        self.breed = breed\n",
    "    \n",
    "    def show_dog_info(self):\n",
    "        print(f\"Name: {self.name}, Breed: {self.breed}\")\n",
    "\n",
    "fido = Dog(\"Fido\", \"Labrador\")\n",
    "fido.show_animal_info()\n",
    "fido.show_dog_info()\n"
   ]
  },
  {
   "cell_type": "markdown",
   "id": "c69b95b5-d18b-442a-9a30-b5a8b4f141ab",
   "metadata": {},
   "source": [
    "(2)Multiple inheritance: When a derived class inherits from more than one base class, it is called multiple inheritance.\n",
    "Example:"
   ]
  },
  {
   "cell_type": "code",
   "execution_count": 8,
   "id": "4052183c-0b4a-46ee-8882-f7c7ad2e807b",
   "metadata": {},
   "outputs": [
    {
     "name": "stdout",
     "output_type": "stream",
     "text": [
      "Name: Fido, Species: Dog\n",
      "Name: Fido, Owner: John Doe\n",
      "Name: Fido, Breed: Labrador, Owner: John Doe\n"
     ]
    }
   ],
   "source": [
    "class Animal:\n",
    "    def __init__(self, name, species):\n",
    "        self.name = name\n",
    "        self.species = species\n",
    "    \n",
    "    def show_animal_info(self):\n",
    "        print(f\"Name: {self.name}, Species: {self.species}\")\n",
    "\n",
    "class Pet:\n",
    "    def __init__(self, name, owner):\n",
    "        self.name = name\n",
    "        self.owner = owner\n",
    "    \n",
    "    def show_pet_info(self):\n",
    "        print(f\"Name: {self.name}, Owner: {self.owner}\")\n",
    "\n",
    "class Dog(Animal, Pet):\n",
    "    def __init__(self, name, breed, owner):\n",
    "        Animal.__init__(self, name, species=\"Dog\")\n",
    "        Pet.__init__(self, name, owner)\n",
    "        self.breed = breed\n",
    "    \n",
    "    def show_dog_info(self):\n",
    "        print(f\"Name: {self.name}, Breed: {self.breed}, Owner: {self.owner}\")\n",
    "\n",
    "fido = Dog(\"Fido\", \"Labrador\", \"John Doe\")\n",
    "fido.show_animal_info()\n",
    "fido.show_pet_info()\n",
    "fido.show_dog_info()\n"
   ]
  },
  {
   "cell_type": "code",
   "execution_count": null,
   "id": "8dd1ccb8-b344-477d-8175-e4b278a1b1d2",
   "metadata": {},
   "outputs": [],
   "source": [
    "(3)Multi-level inheritance: When a derived class inherits from a base class, which in turn inherits from another base class, it is called multi-level inheritance.\n",
    "Example:"
   ]
  },
  {
   "cell_type": "code",
   "execution_count": 15,
   "id": "0e8e1f1f-ce1b-4d36-a4ef-8de5cea5a81f",
   "metadata": {},
   "outputs": [
    {
     "name": "stdout",
     "output_type": "stream",
     "text": [
      "Lal mani\n",
      "Grandfather name : Lal mani\n",
      "Father name : Rampal\n",
      "Son name : Prince\n"
     ]
    }
   ],
   "source": [
    "# Python program to demonstrate\n",
    "# multilevel inheritance\n",
    "\n",
    "# Base class\n",
    "\n",
    "\n",
    "class Grandfather:\n",
    "\n",
    "\tdef __init__(self, grandfathername):\n",
    "\t\tself.grandfathername = grandfathername\n",
    "\n",
    "# Intermediate class\n",
    "\n",
    "\n",
    "class Father(Grandfather):\n",
    "\tdef __init__(self, fathername, grandfathername):\n",
    "\t\tself.fathername = fathername\n",
    "\n",
    "\t\t# invoking constructor of Grandfather class\n",
    "\t\tGrandfather.__init__(self, grandfathername)\n",
    "\n",
    "# Derived class\n",
    "\n",
    "\n",
    "class Son(Father):\n",
    "\tdef __init__(self, sonname, fathername, grandfathername):\n",
    "\t\tself.sonname = sonname\n",
    "\n",
    "\t\t# invoking constructor of Father class\n",
    "\t\tFather.__init__(self, fathername, grandfathername)\n",
    "\n",
    "\tdef print_name(self):\n",
    "\t\tprint('Grandfather name :', self.grandfathername)\n",
    "\t\tprint(\"Father name :\", self.fathername)\n",
    "\t\tprint(\"Son name :\", self.sonname)\n",
    "\n",
    "\n",
    "# Driver code\n",
    "s1 = Son('Prince', 'Rampal', 'Lal mani')\n",
    "print(s1.grandfathername)\n",
    "s1.print_name()\n"
   ]
  },
  {
   "cell_type": "code",
   "execution_count": null,
   "id": "91f05fec-1425-4060-b0a1-64050b24f010",
   "metadata": {},
   "outputs": [],
   "source": []
  }
 ],
 "metadata": {
  "kernelspec": {
   "display_name": "Python 3 (ipykernel)",
   "language": "python",
   "name": "python3"
  },
  "language_info": {
   "codemirror_mode": {
    "name": "ipython",
    "version": 3
   },
   "file_extension": ".py",
   "mimetype": "text/x-python",
   "name": "python",
   "nbconvert_exporter": "python",
   "pygments_lexer": "ipython3",
   "version": "3.10.8"
  }
 },
 "nbformat": 4,
 "nbformat_minor": 5
}
